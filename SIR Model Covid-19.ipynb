{
 "cells": [
  {
   "cell_type": "markdown",
   "metadata": {},
   "source": [
    "# SIR MODEL FOR COVID_19 "
   ]
  },
  {
   "cell_type": "code",
   "execution_count": 182,
   "metadata": {},
   "outputs": [],
   "source": [
    "import pandas as pd\n",
    "import matplotlib.pyplot as plt\n",
    "import scipy.integrate\n",
    "import seaborn as sns"
   ]
  },
  {
   "cell_type": "markdown",
   "metadata": {},
   "source": [
    "## File paths"
   ]
  },
  {
   "cell_type": "code",
   "execution_count": 193,
   "metadata": {},
   "outputs": [],
   "source": [
    "covid_19_deaths = \"Covid_deaths.csv\"\n",
    "covid_19_infected = \"Covid_confirmed.csv\"\n",
    "covid_19_recovered = \"Covid_recovered.csv\"\n",
    "covid_19_removed = \"Covid19_removed.csv\"\n",
    "sir_model_prediction = \"SIR MODEL.xlsx\""
   ]
  },
  {
   "cell_type": "code",
   "execution_count": 194,
   "metadata": {},
   "outputs": [],
   "source": [
    "deaths_df = pd.read_csv(covid_19_deaths)\n",
    "recovered_df = pd.read_csv(covid_19_recovered)\n",
    "confirmed_df = pd.read_csv(covid_19_infected)\n",
    "removed_df = pd.read_csv(covid_19_removed)\n",
    "sir_model_df = pd.read_excel(sir_model_prediction)\n"
   ]
  },
  {
   "cell_type": "markdown",
   "metadata": {},
   "source": [
    "## Formulas \n",
    "## $S$ + $I$ + $R$ = $N$\n",
    "\n",
    "Where :\n",
    "\n",
    "$S$ = Susceptible population\n",
    "\n",
    "$I$ = Infected population\n",
    "\n",
    "$R$ = Recovered/Dead population\n",
    "\n",
    "$N$ = Total Population\n"
   ]
  },
  {
   "cell_type": "markdown",
   "metadata": {},
   "source": [
    "## Data \n",
    "\n",
    "### Mean Infectious Period : 11 days \n",
    "\n",
    "Backer, Jantien A et al. “Incubation period of 2019 novel coronavirus (2019-nCoV) infections among travellers from Wuhan, China, 20-28 January 2020.” Euro surveillance : bulletin Europeen sur les maladies transmissibles = European communicable disease bulletin vol. 25,5 (2020): 2000062. doi:10.2807/1560-7917.ES.2020.25.5.2000062\n",
    "\n",
    "#### Rate of  Removal (Death/Recovery) = 0.11 (Recovery) + 0.034 (Mortality) = 0.144\n",
    "\n",
    "https://www.worldometers.info/coronavirus/coronavirus-death-rate/\n",
    "\n",
    "#### Rate of infection = 0.35\n",
    "\n",
    "https://www.sciencedirect.com/science/article/pii/S1201971220300539\n",
    "\n",
    "\n"
   ]
  },
  {
   "cell_type": "code",
   "execution_count": 117,
   "metadata": {},
   "outputs": [],
   "source": [
    "\"\"\"def sir_model(s, i, r,t ,infection_rate, recovery_rate):\n",
    "    ds_dt = -infection_rate*s*i\n",
    "    di_dt = infection_rate*s*i - recovery_rate*i\n",
    "    dr_dt = recovery_rate*i\n",
    "    \n",
    "    return [ds_dt,di_dt,dr_dt]\"\"\"\n",
    "    "
   ]
  },
  {
   "cell_type": "code",
   "execution_count": 241,
   "metadata": {},
   "outputs": [],
   "source": [
    "full_covid_df = pd.read_csv(\"full_data.csv\")"
   ]
  },
  {
   "cell_type": "code",
   "execution_count": 242,
   "metadata": {},
   "outputs": [
    {
     "data": {
      "text/html": [
       "<div>\n",
       "<style scoped>\n",
       "    .dataframe tbody tr th:only-of-type {\n",
       "        vertical-align: middle;\n",
       "    }\n",
       "\n",
       "    .dataframe tbody tr th {\n",
       "        vertical-align: top;\n",
       "    }\n",
       "\n",
       "    .dataframe thead th {\n",
       "        text-align: right;\n",
       "    }\n",
       "</style>\n",
       "<table border=\"1\" class=\"dataframe\">\n",
       "  <thead>\n",
       "    <tr style=\"text-align: right;\">\n",
       "      <th></th>\n",
       "      <th>Unnamed: 0</th>\n",
       "      <th>Time</th>\n",
       "      <th>Confirmed</th>\n",
       "      <th>Removed</th>\n",
       "      <th>Total_Population</th>\n",
       "      <th>Susceptible</th>\n",
       "    </tr>\n",
       "  </thead>\n",
       "  <tbody>\n",
       "    <tr>\n",
       "      <td>0</td>\n",
       "      <td>0</td>\n",
       "      <td>1/22/20</td>\n",
       "      <td>555</td>\n",
       "      <td>45</td>\n",
       "      <td>7000000000</td>\n",
       "      <td>6999999400</td>\n",
       "    </tr>\n",
       "    <tr>\n",
       "      <td>1</td>\n",
       "      <td>1</td>\n",
       "      <td>1/23/20</td>\n",
       "      <td>654</td>\n",
       "      <td>48</td>\n",
       "      <td>7000000000</td>\n",
       "      <td>6999998698</td>\n",
       "    </tr>\n",
       "    <tr>\n",
       "      <td>2</td>\n",
       "      <td>2</td>\n",
       "      <td>1/24/20</td>\n",
       "      <td>941</td>\n",
       "      <td>62</td>\n",
       "      <td>7000000000</td>\n",
       "      <td>6999997695</td>\n",
       "    </tr>\n",
       "    <tr>\n",
       "      <td>3</td>\n",
       "      <td>3</td>\n",
       "      <td>1/25/20</td>\n",
       "      <td>1434</td>\n",
       "      <td>81</td>\n",
       "      <td>7000000000</td>\n",
       "      <td>6999996180</td>\n",
       "    </tr>\n",
       "    <tr>\n",
       "      <td>4</td>\n",
       "      <td>4</td>\n",
       "      <td>1/26/20</td>\n",
       "      <td>2118</td>\n",
       "      <td>108</td>\n",
       "      <td>7000000000</td>\n",
       "      <td>6999993954</td>\n",
       "    </tr>\n",
       "    <tr>\n",
       "      <td>...</td>\n",
       "      <td>...</td>\n",
       "      <td>...</td>\n",
       "      <td>...</td>\n",
       "      <td>...</td>\n",
       "      <td>...</td>\n",
       "      <td>...</td>\n",
       "    </tr>\n",
       "    <tr>\n",
       "      <td>70</td>\n",
       "      <td>70</td>\n",
       "      <td>4/1/20</td>\n",
       "      <td>932605</td>\n",
       "      <td>239986</td>\n",
       "      <td>7000000000</td>\n",
       "      <td>6984701310</td>\n",
       "    </tr>\n",
       "    <tr>\n",
       "      <td>71</td>\n",
       "      <td>71</td>\n",
       "      <td>4/2/20</td>\n",
       "      <td>1013157</td>\n",
       "      <td>263246</td>\n",
       "      <td>7000000000</td>\n",
       "      <td>6983424907</td>\n",
       "    </tr>\n",
       "    <tr>\n",
       "      <td>72</td>\n",
       "      <td>72</td>\n",
       "      <td>4/3/20</td>\n",
       "      <td>1095917</td>\n",
       "      <td>284583</td>\n",
       "      <td>7000000000</td>\n",
       "      <td>6982044407</td>\n",
       "    </tr>\n",
       "    <tr>\n",
       "      <td>73</td>\n",
       "      <td>73</td>\n",
       "      <td>4/4/20</td>\n",
       "      <td>1197405</td>\n",
       "      <td>310758</td>\n",
       "      <td>7000000000</td>\n",
       "      <td>6980536244</td>\n",
       "    </tr>\n",
       "    <tr>\n",
       "      <td>74</td>\n",
       "      <td>74</td>\n",
       "      <td>4/5/20</td>\n",
       "      <td>1272115</td>\n",
       "      <td>329386</td>\n",
       "      <td>7000000000</td>\n",
       "      <td>6978934743</td>\n",
       "    </tr>\n",
       "  </tbody>\n",
       "</table>\n",
       "<p>75 rows × 6 columns</p>\n",
       "</div>"
      ],
      "text/plain": [
       "    Unnamed: 0     Time  Confirmed  Removed  Total_Population  Susceptible\n",
       "0            0  1/22/20        555       45        7000000000   6999999400\n",
       "1            1  1/23/20        654       48        7000000000   6999998698\n",
       "2            2  1/24/20        941       62        7000000000   6999997695\n",
       "3            3  1/25/20       1434       81        7000000000   6999996180\n",
       "4            4  1/26/20       2118      108        7000000000   6999993954\n",
       "..         ...      ...        ...      ...               ...          ...\n",
       "70          70   4/1/20     932605   239986        7000000000   6984701310\n",
       "71          71   4/2/20    1013157   263246        7000000000   6983424907\n",
       "72          72   4/3/20    1095917   284583        7000000000   6982044407\n",
       "73          73   4/4/20    1197405   310758        7000000000   6980536244\n",
       "74          74   4/5/20    1272115   329386        7000000000   6978934743\n",
       "\n",
       "[75 rows x 6 columns]"
      ]
     },
     "execution_count": 242,
     "metadata": {},
     "output_type": "execute_result"
    }
   ],
   "source": [
    "full_covid_df"
   ]
  },
  {
   "cell_type": "markdown",
   "metadata": {},
   "source": [
    "#### Comparing the SIR model and Real data"
   ]
  },
  {
   "cell_type": "code",
   "execution_count": 180,
   "metadata": {},
   "outputs": [],
   "source": [
    "#sir_model_df.drop(sir_model_df.columns[sir_model_df.columns.str.contains('unnamed',case = False)],axis = 1, inplace = True)"
   ]
  },
  {
   "cell_type": "code",
   "execution_count": 195,
   "metadata": {},
   "outputs": [
    {
     "data": {
      "text/html": [
       "<div>\n",
       "<style scoped>\n",
       "    .dataframe tbody tr th:only-of-type {\n",
       "        vertical-align: middle;\n",
       "    }\n",
       "\n",
       "    .dataframe tbody tr th {\n",
       "        vertical-align: top;\n",
       "    }\n",
       "\n",
       "    .dataframe thead th {\n",
       "        text-align: right;\n",
       "    }\n",
       "</style>\n",
       "<table border=\"1\" class=\"dataframe\">\n",
       "  <thead>\n",
       "    <tr style=\"text-align: right;\">\n",
       "      <th></th>\n",
       "      <th>Days</th>\n",
       "      <th>Susceptible Population</th>\n",
       "      <th>Infected population</th>\n",
       "      <th>Removed population</th>\n",
       "      <th>dS/dt</th>\n",
       "      <th>dI/dt</th>\n",
       "      <th>dR/dt</th>\n",
       "      <th>Total population</th>\n",
       "      <th>Recovery Rate</th>\n",
       "      <th>Transmission Rate</th>\n",
       "    </tr>\n",
       "  </thead>\n",
       "  <tbody>\n",
       "    <tr>\n",
       "      <td>0</td>\n",
       "      <td>0</td>\n",
       "      <td>6.999999e+09</td>\n",
       "      <td>555.000000</td>\n",
       "      <td>4.500000e+01</td>\n",
       "      <td>-135.974988</td>\n",
       "      <td>56.054988</td>\n",
       "      <td>79.920000</td>\n",
       "      <td>7.000000e+09</td>\n",
       "      <td>0.144</td>\n",
       "      <td>3.500000e-11</td>\n",
       "    </tr>\n",
       "    <tr>\n",
       "      <td>1</td>\n",
       "      <td>1</td>\n",
       "      <td>6.999999e+09</td>\n",
       "      <td>611.054988</td>\n",
       "      <td>1.249200e+02</td>\n",
       "      <td>-149.708456</td>\n",
       "      <td>61.716538</td>\n",
       "      <td>87.991918</td>\n",
       "      <td>7.000000e+09</td>\n",
       "      <td>0.144</td>\n",
       "      <td>3.500000e-11</td>\n",
       "    </tr>\n",
       "    <tr>\n",
       "      <td>2</td>\n",
       "      <td>2</td>\n",
       "      <td>6.999999e+09</td>\n",
       "      <td>672.771526</td>\n",
       "      <td>2.129119e+02</td>\n",
       "      <td>-164.829003</td>\n",
       "      <td>67.949903</td>\n",
       "      <td>96.879100</td>\n",
       "      <td>7.000000e+09</td>\n",
       "      <td>0.144</td>\n",
       "      <td>3.500000e-11</td>\n",
       "    </tr>\n",
       "    <tr>\n",
       "      <td>3</td>\n",
       "      <td>3</td>\n",
       "      <td>6.999999e+09</td>\n",
       "      <td>740.721430</td>\n",
       "      <td>3.097910e+02</td>\n",
       "      <td>-181.476723</td>\n",
       "      <td>74.812837</td>\n",
       "      <td>106.663886</td>\n",
       "      <td>7.000000e+09</td>\n",
       "      <td>0.144</td>\n",
       "      <td>3.500000e-11</td>\n",
       "    </tr>\n",
       "    <tr>\n",
       "      <td>4</td>\n",
       "      <td>4</td>\n",
       "      <td>6.999999e+09</td>\n",
       "      <td>815.534267</td>\n",
       "      <td>4.164549e+02</td>\n",
       "      <td>-199.805860</td>\n",
       "      <td>82.368926</td>\n",
       "      <td>117.436934</td>\n",
       "      <td>7.000000e+09</td>\n",
       "      <td>0.144</td>\n",
       "      <td>3.500000e-11</td>\n",
       "    </tr>\n",
       "    <tr>\n",
       "      <td>...</td>\n",
       "      <td>...</td>\n",
       "      <td>...</td>\n",
       "      <td>...</td>\n",
       "      <td>...</td>\n",
       "      <td>...</td>\n",
       "      <td>...</td>\n",
       "      <td>...</td>\n",
       "      <td>...</td>\n",
       "      <td>...</td>\n",
       "      <td>...</td>\n",
       "    </tr>\n",
       "    <tr>\n",
       "      <td>361</td>\n",
       "      <td>361</td>\n",
       "      <td>2.112788e+09</td>\n",
       "      <td>1230.131786</td>\n",
       "      <td>4.887211e+09</td>\n",
       "      <td>-90.965252</td>\n",
       "      <td>-86.173726</td>\n",
       "      <td>177.138977</td>\n",
       "      <td>7.000000e+09</td>\n",
       "      <td>0.144</td>\n",
       "      <td>3.500000e-11</td>\n",
       "    </tr>\n",
       "    <tr>\n",
       "      <td>362</td>\n",
       "      <td>362</td>\n",
       "      <td>2.112788e+09</td>\n",
       "      <td>1143.958061</td>\n",
       "      <td>4.887211e+09</td>\n",
       "      <td>-84.592911</td>\n",
       "      <td>-80.137050</td>\n",
       "      <td>164.729961</td>\n",
       "      <td>7.000000e+09</td>\n",
       "      <td>0.144</td>\n",
       "      <td>3.500000e-11</td>\n",
       "    </tr>\n",
       "    <tr>\n",
       "      <td>363</td>\n",
       "      <td>363</td>\n",
       "      <td>2.112787e+09</td>\n",
       "      <td>1063.821010</td>\n",
       "      <td>4.887212e+09</td>\n",
       "      <td>-78.666968</td>\n",
       "      <td>-74.523258</td>\n",
       "      <td>153.190226</td>\n",
       "      <td>7.000000e+09</td>\n",
       "      <td>0.144</td>\n",
       "      <td>3.500000e-11</td>\n",
       "    </tr>\n",
       "    <tr>\n",
       "      <td>364</td>\n",
       "      <td>364</td>\n",
       "      <td>2.112787e+09</td>\n",
       "      <td>989.297753</td>\n",
       "      <td>4.887212e+09</td>\n",
       "      <td>-73.156152</td>\n",
       "      <td>-69.302724</td>\n",
       "      <td>142.458876</td>\n",
       "      <td>7.000000e+09</td>\n",
       "      <td>0.144</td>\n",
       "      <td>3.500000e-11</td>\n",
       "    </tr>\n",
       "    <tr>\n",
       "      <td>365</td>\n",
       "      <td>365</td>\n",
       "      <td>2.112787e+09</td>\n",
       "      <td>919.995029</td>\n",
       "      <td>4.887212e+09</td>\n",
       "      <td>-68.031383</td>\n",
       "      <td>-64.447901</td>\n",
       "      <td>132.479284</td>\n",
       "      <td>7.000000e+09</td>\n",
       "      <td>0.144</td>\n",
       "      <td>3.500000e-11</td>\n",
       "    </tr>\n",
       "  </tbody>\n",
       "</table>\n",
       "<p>366 rows × 10 columns</p>\n",
       "</div>"
      ],
      "text/plain": [
       "     Days   Susceptible Population  Infected population  Removed population  \\\n",
       "0        0            6.999999e+09           555.000000        4.500000e+01   \n",
       "1        1            6.999999e+09           611.054988        1.249200e+02   \n",
       "2        2            6.999999e+09           672.771526        2.129119e+02   \n",
       "3        3            6.999999e+09           740.721430        3.097910e+02   \n",
       "4        4            6.999999e+09           815.534267        4.164549e+02   \n",
       "..     ...                     ...                  ...                 ...   \n",
       "361    361            2.112788e+09          1230.131786        4.887211e+09   \n",
       "362    362            2.112788e+09          1143.958061        4.887211e+09   \n",
       "363    363            2.112787e+09          1063.821010        4.887212e+09   \n",
       "364    364            2.112787e+09           989.297753        4.887212e+09   \n",
       "365    365            2.112787e+09           919.995029        4.887212e+09   \n",
       "\n",
       "          dS/dt      dI/dt       dR/dt  Total population  Recovery Rate  \\\n",
       "0   -135.974988  56.054988   79.920000      7.000000e+09          0.144   \n",
       "1   -149.708456  61.716538   87.991918      7.000000e+09          0.144   \n",
       "2   -164.829003  67.949903   96.879100      7.000000e+09          0.144   \n",
       "3   -181.476723  74.812837  106.663886      7.000000e+09          0.144   \n",
       "4   -199.805860  82.368926  117.436934      7.000000e+09          0.144   \n",
       "..          ...        ...         ...               ...            ...   \n",
       "361  -90.965252 -86.173726  177.138977      7.000000e+09          0.144   \n",
       "362  -84.592911 -80.137050  164.729961      7.000000e+09          0.144   \n",
       "363  -78.666968 -74.523258  153.190226      7.000000e+09          0.144   \n",
       "364  -73.156152 -69.302724  142.458876      7.000000e+09          0.144   \n",
       "365  -68.031383 -64.447901  132.479284      7.000000e+09          0.144   \n",
       "\n",
       "     Transmission Rate   \n",
       "0          3.500000e-11  \n",
       "1          3.500000e-11  \n",
       "2          3.500000e-11  \n",
       "3          3.500000e-11  \n",
       "4          3.500000e-11  \n",
       "..                  ...  \n",
       "361        3.500000e-11  \n",
       "362        3.500000e-11  \n",
       "363        3.500000e-11  \n",
       "364        3.500000e-11  \n",
       "365        3.500000e-11  \n",
       "\n",
       "[366 rows x 10 columns]"
      ]
     },
     "execution_count": 195,
     "metadata": {},
     "output_type": "execute_result"
    }
   ],
   "source": [
    "sir_model_df"
   ]
  },
  {
   "cell_type": "code",
   "execution_count": null,
   "metadata": {},
   "outputs": [],
   "source": [
    "\n"
   ]
  },
  {
   "cell_type": "code",
   "execution_count": 229,
   "metadata": {},
   "outputs": [
    {
     "data": {
      "text/plain": [
       "<matplotlib.axes._subplots.AxesSubplot at 0x1a39eca650>"
      ]
     },
     "execution_count": 229,
     "metadata": {},
     "output_type": "execute_result"
    },
    {
     "data": {
      "image/png": "[encoded data removed]",
      "text/plain": [
       "<Figure size 432x288 with 1 Axes>"
      ]
     },
     "metadata": {
      "needs_background": "light"
     },
     "output_type": "display_data"
    }
   ],
   "source": [
    "plt.ylim(0, 1372115)\n",
    "sns.lineplot(x=sir_model_df[\"Days \"], y=full_covid_df[\"Confirmed\"])\n",
    "sns.lineplot(x=sir_model_df[\"Days \"], y=sir_model_df[\"Infected population\"] )"
   ]
  },
  {
   "cell_type": "code",
   "execution_count": 234,
   "metadata": {},
   "outputs": [
    {
     "data": {
      "text/plain": [
       "<matplotlib.axes._subplots.AxesSubplot at 0x1a3a3b6c90>"
      ]
     },
     "execution_count": 234,
     "metadata": {},
     "output_type": "execute_result"
    },
    {
     "data": {
      "image/png": "[encoded data removed]",
      "text/plain": [
       "<Figure size 432x288 with 1 Axes>"
      ]
     },
     "metadata": {
      "needs_background": "light"
     },
     "output_type": "display_data"
    }
   ],
   "source": [
    "plt.ylim(0, 1300000)\n",
    "sns.lineplot(x=sir_model_df[\"Days \"], y=full_covid_df[\"Removed\"])\n",
    "sns.lineplot(x=sir_model_df[\"Days \"], y=full_covid_df[\"Confirmed\"] )\n",
    "sns.lineplot(x=sir_model_df[\"Days \"], y=full_covid_df[\"Confirmed\"] )\n"
   ]
  },
  {
   "cell_type": "code",
   "execution_count": 240,
   "metadata": {},
   "outputs": [
    {
     "data": {
      "text/plain": [
       "<matplotlib.axes._subplots.AxesSubplot at 0x1a3a8fb790>"
      ]
     },
     "execution_count": 240,
     "metadata": {},
     "output_type": "execute_result"
    },
    {
     "data": {
      "image/png": "[encoded data removed]",
      "text/plain": [
       "<Figure size 432x288 with 1 Axes>"
      ]
     },
     "metadata": {
      "needs_background": "light"
     },
     "output_type": "display_data"
    }
   ],
   "source": [
    "\n",
    "sns.lineplot(x=sir_model_df[\"Days \"], y=sir_model_df[\"Removed population\"])\n",
    "sns.lineplot(x=sir_model_df[\"Days \"], y=sir_model_df[\"Infected population\"] )\n",
    "sns.lineplot(x=sir_model_df[\"Days \"], y=sir_model_df[\"Susceptible Population\"] )"
   ]
  },
  {
   "cell_type": "code",
   "execution_count": null,
   "metadata": {},
   "outputs": [],
   "source": []
  }
 ],
 "metadata": {
  "kernelspec": {
   "display_name": "Python 3",
   "language": "python",
   "name": "python3"
  },
  "language_info": {
   "codemirror_mode": {
    "name": "ipython",
    "version": 3
   },
   "file_extension": ".py",
   "mimetype": "text/x-python",
   "name": "python",
   "nbconvert_exporter": "python",
   "pygments_lexer": "ipython3",
   "version": "3.7.4"
  }
 },
 "nbformat": 4,
 "nbformat_minor": 2
}
